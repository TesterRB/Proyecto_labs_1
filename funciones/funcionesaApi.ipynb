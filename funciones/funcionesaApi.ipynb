{
 "cells": [
  {
   "cell_type": "code",
   "execution_count": 15,
   "metadata": {},
   "outputs": [],
   "source": [
    "import pandas as pd\n",
    "import numpy as np\n",
    "from sklearn.feature_extraction.text import CountVectorizer\n",
    "from sklearn.metrics.pairwise import cosine_similarity\n",
    "from sklearn.neighbors import NearestNeighbors\n",
    "from sklearn.feature_extraction.text import TfidfVectorizer\n",
    "from sklearn.metrics.pairwise import linear_kernel\n",
    "from scipy.sparse import lil_matrix\n",
    "import joblib\n"
   ]
  },
  {
   "cell_type": "code",
   "execution_count": 20,
   "metadata": {},
   "outputs": [
    {
     "data": {
      "text/html": [
       "<div>\n",
       "<style scoped>\n",
       "    .dataframe tbody tr th:only-of-type {\n",
       "        vertical-align: middle;\n",
       "    }\n",
       "\n",
       "    .dataframe tbody tr th {\n",
       "        vertical-align: top;\n",
       "    }\n",
       "\n",
       "    .dataframe thead th {\n",
       "        text-align: right;\n",
       "    }\n",
       "</style>\n",
       "<table border=\"1\" class=\"dataframe\">\n",
       "  <thead>\n",
       "    <tr style=\"text-align: right;\">\n",
       "      <th></th>\n",
       "      <th>budget</th>\n",
       "      <th>id</th>\n",
       "      <th>original_language</th>\n",
       "      <th>overview</th>\n",
       "      <th>popularity</th>\n",
       "      <th>release_date</th>\n",
       "      <th>revenue</th>\n",
       "      <th>runtime</th>\n",
       "      <th>status</th>\n",
       "      <th>tagline</th>\n",
       "      <th>...</th>\n",
       "      <th>id_collection</th>\n",
       "      <th>name_collection</th>\n",
       "      <th>id_genres</th>\n",
       "      <th>name_genres</th>\n",
       "      <th>id_production</th>\n",
       "      <th>name_production</th>\n",
       "      <th>id_language</th>\n",
       "      <th>name_language</th>\n",
       "      <th>id_countrie</th>\n",
       "      <th>name_countrie</th>\n",
       "    </tr>\n",
       "  </thead>\n",
       "  <tbody>\n",
       "    <tr>\n",
       "      <th>0</th>\n",
       "      <td>30000000.0</td>\n",
       "      <td>862.0</td>\n",
       "      <td>en</td>\n",
       "      <td>Led by Woody, Andy's toys live happily in his ...</td>\n",
       "      <td>21.946943</td>\n",
       "      <td>1995-10-30</td>\n",
       "      <td>373554033.0</td>\n",
       "      <td>81.0</td>\n",
       "      <td>Released</td>\n",
       "      <td>NaN</td>\n",
       "      <td>...</td>\n",
       "      <td>10194.0</td>\n",
       "      <td>Toy Story Collection</td>\n",
       "      <td>16.0,35.0,10751.0</td>\n",
       "      <td>Animation,Comedy,Family</td>\n",
       "      <td>3.0</td>\n",
       "      <td>Pixar Animation Studios</td>\n",
       "      <td>en</td>\n",
       "      <td>English</td>\n",
       "      <td>US</td>\n",
       "      <td>United States of America</td>\n",
       "    </tr>\n",
       "    <tr>\n",
       "      <th>1</th>\n",
       "      <td>65000000.0</td>\n",
       "      <td>8844.0</td>\n",
       "      <td>en</td>\n",
       "      <td>When siblings Judy and Peter discover an encha...</td>\n",
       "      <td>17.015539</td>\n",
       "      <td>1995-12-15</td>\n",
       "      <td>262797249.0</td>\n",
       "      <td>104.0</td>\n",
       "      <td>Released</td>\n",
       "      <td>Roll the dice and unleash the excitement!</td>\n",
       "      <td>...</td>\n",
       "      <td>NaN</td>\n",
       "      <td>NaN</td>\n",
       "      <td>12.0,14.0,10751.0</td>\n",
       "      <td>Adventure,Fantasy,Family</td>\n",
       "      <td>559.0,2550.0,10201.0</td>\n",
       "      <td>TriStar Pictures,Teitler Film,Interscope Commu...</td>\n",
       "      <td>en,fr</td>\n",
       "      <td>English,Français</td>\n",
       "      <td>US</td>\n",
       "      <td>United States of America</td>\n",
       "    </tr>\n",
       "    <tr>\n",
       "      <th>2</th>\n",
       "      <td>0.0</td>\n",
       "      <td>15602.0</td>\n",
       "      <td>en</td>\n",
       "      <td>A family wedding reignites the ancient feud be...</td>\n",
       "      <td>11.712900</td>\n",
       "      <td>1995-12-22</td>\n",
       "      <td>0.0</td>\n",
       "      <td>101.0</td>\n",
       "      <td>Released</td>\n",
       "      <td>Still Yelling. Still Fighting. Still Ready for...</td>\n",
       "      <td>...</td>\n",
       "      <td>119050.0</td>\n",
       "      <td>Grumpy Old Men Collection</td>\n",
       "      <td>10749.0,35.0</td>\n",
       "      <td>Romance,Comedy</td>\n",
       "      <td>6194.0,19464.0</td>\n",
       "      <td>Warner Bros.,Lancaster Gate</td>\n",
       "      <td>en</td>\n",
       "      <td>English</td>\n",
       "      <td>US</td>\n",
       "      <td>United States of America</td>\n",
       "    </tr>\n",
       "    <tr>\n",
       "      <th>3</th>\n",
       "      <td>16000000.0</td>\n",
       "      <td>31357.0</td>\n",
       "      <td>en</td>\n",
       "      <td>Cheated on, mistreated and stepped on, the wom...</td>\n",
       "      <td>3.859495</td>\n",
       "      <td>1995-12-22</td>\n",
       "      <td>81452156.0</td>\n",
       "      <td>127.0</td>\n",
       "      <td>Released</td>\n",
       "      <td>Friends are the people who let you be yourself...</td>\n",
       "      <td>...</td>\n",
       "      <td>NaN</td>\n",
       "      <td>NaN</td>\n",
       "      <td>35.0,18.0,10749.0</td>\n",
       "      <td>Comedy,Drama,Romance</td>\n",
       "      <td>306.0</td>\n",
       "      <td>Twentieth Century Fox Film Corporation</td>\n",
       "      <td>en</td>\n",
       "      <td>English</td>\n",
       "      <td>US</td>\n",
       "      <td>United States of America</td>\n",
       "    </tr>\n",
       "    <tr>\n",
       "      <th>4</th>\n",
       "      <td>0.0</td>\n",
       "      <td>11862.0</td>\n",
       "      <td>en</td>\n",
       "      <td>Just when George Banks has recovered from his ...</td>\n",
       "      <td>8.387519</td>\n",
       "      <td>1995-02-10</td>\n",
       "      <td>76578911.0</td>\n",
       "      <td>106.0</td>\n",
       "      <td>Released</td>\n",
       "      <td>Just When His World Is Back To Normal... He's ...</td>\n",
       "      <td>...</td>\n",
       "      <td>96871.0</td>\n",
       "      <td>Father of the Bride Collection</td>\n",
       "      <td>35.0</td>\n",
       "      <td>Comedy</td>\n",
       "      <td>5842.0,9195.0</td>\n",
       "      <td>Sandollar Productions,Touchstone Pictures</td>\n",
       "      <td>en</td>\n",
       "      <td>English</td>\n",
       "      <td>US</td>\n",
       "      <td>United States of America</td>\n",
       "    </tr>\n",
       "  </tbody>\n",
       "</table>\n",
       "<p>5 rows × 23 columns</p>\n",
       "</div>"
      ],
      "text/plain": [
       "       budget       id original_language  \\\n",
       "0  30000000.0    862.0                en   \n",
       "1  65000000.0   8844.0                en   \n",
       "2         0.0  15602.0                en   \n",
       "3  16000000.0  31357.0                en   \n",
       "4         0.0  11862.0                en   \n",
       "\n",
       "                                            overview  popularity release_date  \\\n",
       "0  Led by Woody, Andy's toys live happily in his ...   21.946943   1995-10-30   \n",
       "1  When siblings Judy and Peter discover an encha...   17.015539   1995-12-15   \n",
       "2  A family wedding reignites the ancient feud be...   11.712900   1995-12-22   \n",
       "3  Cheated on, mistreated and stepped on, the wom...    3.859495   1995-12-22   \n",
       "4  Just when George Banks has recovered from his ...    8.387519   1995-02-10   \n",
       "\n",
       "       revenue  runtime    status  \\\n",
       "0  373554033.0     81.0  Released   \n",
       "1  262797249.0    104.0  Released   \n",
       "2          0.0    101.0  Released   \n",
       "3   81452156.0    127.0  Released   \n",
       "4   76578911.0    106.0  Released   \n",
       "\n",
       "                                             tagline  ... id_collection  \\\n",
       "0                                                NaN  ...       10194.0   \n",
       "1          Roll the dice and unleash the excitement!  ...           NaN   \n",
       "2  Still Yelling. Still Fighting. Still Ready for...  ...      119050.0   \n",
       "3  Friends are the people who let you be yourself...  ...           NaN   \n",
       "4  Just When His World Is Back To Normal... He's ...  ...       96871.0   \n",
       "\n",
       "                  name_collection          id_genres  \\\n",
       "0            Toy Story Collection  16.0,35.0,10751.0   \n",
       "1                             NaN  12.0,14.0,10751.0   \n",
       "2       Grumpy Old Men Collection       10749.0,35.0   \n",
       "3                             NaN  35.0,18.0,10749.0   \n",
       "4  Father of the Bride Collection               35.0   \n",
       "\n",
       "                name_genres         id_production  \\\n",
       "0   Animation,Comedy,Family                   3.0   \n",
       "1  Adventure,Fantasy,Family  559.0,2550.0,10201.0   \n",
       "2            Romance,Comedy        6194.0,19464.0   \n",
       "3      Comedy,Drama,Romance                 306.0   \n",
       "4                    Comedy         5842.0,9195.0   \n",
       "\n",
       "                                     name_production id_language  \\\n",
       "0                            Pixar Animation Studios          en   \n",
       "1  TriStar Pictures,Teitler Film,Interscope Commu...       en,fr   \n",
       "2                        Warner Bros.,Lancaster Gate          en   \n",
       "3             Twentieth Century Fox Film Corporation          en   \n",
       "4          Sandollar Productions,Touchstone Pictures          en   \n",
       "\n",
       "      name_language id_countrie             name_countrie  \n",
       "0           English          US  United States of America  \n",
       "1  English,Français          US  United States of America  \n",
       "2           English          US  United States of America  \n",
       "3           English          US  United States of America  \n",
       "4           English          US  United States of America  \n",
       "\n",
       "[5 rows x 23 columns]"
      ]
     },
     "execution_count": 20,
     "metadata": {},
     "output_type": "execute_result"
    }
   ],
   "source": [
    "df = pd.read_csv(\"dfListo.csv\")\n",
    "df.head()"
   ]
  },
  {
   "cell_type": "code",
   "execution_count": 9,
   "metadata": {},
   "outputs": [
    {
     "name": "stdout",
     "output_type": "stream",
     "text": [
      "<class 'pandas.core.frame.DataFrame'>\n",
      "RangeIndex: 45464 entries, 0 to 45463\n",
      "Data columns (total 23 columns):\n",
      " #   Column             Non-Null Count  Dtype  \n",
      "---  ------             --------------  -----  \n",
      " 0   budget             45376 non-null  float64\n",
      " 1   id                 45376 non-null  float64\n",
      " 2   original_language  45365 non-null  object \n",
      " 3   overview           44435 non-null  object \n",
      " 4   popularity         45376 non-null  float64\n",
      " 5   release_date       45376 non-null  object \n",
      " 6   revenue            45376 non-null  float64\n",
      " 7   runtime            45130 non-null  float64\n",
      " 8   status             45296 non-null  object \n",
      " 9   tagline            20398 non-null  object \n",
      " 10  title              45376 non-null  object \n",
      " 11  vote_average       45376 non-null  float64\n",
      " 12  return             45376 non-null  float64\n",
      " 13  id_collection      4488 non-null   float64\n",
      " 14  name_collection    4488 non-null   object \n",
      " 15  id_genres          42992 non-null  object \n",
      " 16  name_genres        42992 non-null  object \n",
      " 17  id_production      33580 non-null  object \n",
      " 18  name_production    33580 non-null  object \n",
      " 19  id_language        41608 non-null  object \n",
      " 20  name_language      41485 non-null  object \n",
      " 21  id_countrie        39165 non-null  object \n",
      " 22  name_countrie      39165 non-null  object \n",
      "dtypes: float64(8), object(15)\n",
      "memory usage: 8.0+ MB\n"
     ]
    }
   ],
   "source": [
    "df.info()"
   ]
  },
  {
   "cell_type": "code",
   "execution_count": 10,
   "metadata": {},
   "outputs": [
    {
     "data": {
      "text/plain": [
       "14865                                         The Crazies\n",
       "14761                                  Four Eyed Monsters\n",
       "5538                                             The Ring\n",
       "5159                                       The Cat's Meow\n",
       "36313                             EK Chotti Si Love Story\n",
       "6162                                       Fahrenheit 451\n",
       "7690                                              College\n",
       "31123                              A Killer Among Friends\n",
       "32363                                      Happiness Runs\n",
       "7663                                While the City Sleeps\n",
       "15887                                               Devil\n",
       "20667                                 A Bunch of Amateurs\n",
       "42213                                   Dibu: La Película\n",
       "16186                          Last of the Red Hot Lovers\n",
       "37165                                Oysters at Nam Kee's\n",
       "19150                                            The Firm\n",
       "8817                        Merry Christmas, Mr. Lawrence\n",
       "27681                    A Spell to Ward Off the Darkness\n",
       "37039                             Kisna: The Warrior Poet\n",
       "8713                                               Butley\n",
       "41413                                   Belle du Seigneur\n",
       "12747                                        Sleepwalking\n",
       "25812                                           City Cops\n",
       "30453                      Bonnie and Clyde Italian Style\n",
       "23405                                     12 O’Clock Boys\n",
       "36255                                   Lapland Odyssey 2\n",
       "32758                                       Broken Horses\n",
       "2033                                      Sixteen Candles\n",
       "19528                                        A Safe Place\n",
       "2554                                         Notting Hill\n",
       "31552    Genitori & figli:) - Agitare bene prima dell'uso\n",
       "16850                                               Alibi\n",
       "2360                                           52 Pick-Up\n",
       "24494                                           Small Fry\n",
       "22827                                 Your Friend the Rat\n",
       "5429                                   Johnny Dangerously\n",
       "14649                       Flavor of Green Tea Over Rice\n",
       "13778                                       Fade to Black\n",
       "24790                                       Dead Men Tell\n",
       "43354                                 Katt Williams: Live\n",
       "9016                                    The Baby of Mâcon\n",
       "15358                                    The Scalphunters\n",
       "34296                                  Natale in crociera\n",
       "24249                                      Dracula Untold\n",
       "27817                                           6 Desires\n",
       "Name: title, dtype: object"
      ]
     },
     "execution_count": 10,
     "metadata": {},
     "output_type": "execute_result"
    }
   ],
   "source": [
    "df[\"title\"].sample(45)"
   ]
  },
  {
   "cell_type": "code",
   "execution_count": 17,
   "metadata": {},
   "outputs": [],
   "source": [
    "# df['release_date'] = pd.to_datetime(df['release_date'], format='%Y-%m-%d', errors='coerce')"
   ]
  },
  {
   "cell_type": "code",
   "execution_count": 21,
   "metadata": {},
   "outputs": [
    {
     "name": "stdout",
     "output_type": "stream",
     "text": [
      "<class 'pandas.core.frame.DataFrame'>\n",
      "RangeIndex: 45464 entries, 0 to 45463\n",
      "Data columns (total 23 columns):\n",
      " #   Column             Non-Null Count  Dtype  \n",
      "---  ------             --------------  -----  \n",
      " 0   budget             45376 non-null  float64\n",
      " 1   id                 45376 non-null  float64\n",
      " 2   original_language  45365 non-null  object \n",
      " 3   overview           44435 non-null  object \n",
      " 4   popularity         45376 non-null  float64\n",
      " 5   release_date       45376 non-null  object \n",
      " 6   revenue            45376 non-null  float64\n",
      " 7   runtime            45130 non-null  float64\n",
      " 8   status             45296 non-null  object \n",
      " 9   tagline            20398 non-null  object \n",
      " 10  title              45376 non-null  object \n",
      " 11  vote_average       45376 non-null  float64\n",
      " 12  return             45376 non-null  float64\n",
      " 13  id_collection      4488 non-null   float64\n",
      " 14  name_collection    4488 non-null   object \n",
      " 15  id_genres          42992 non-null  object \n",
      " 16  name_genres        42992 non-null  object \n",
      " 17  id_production      33580 non-null  object \n",
      " 18  name_production    33580 non-null  object \n",
      " 19  id_language        41608 non-null  object \n",
      " 20  name_language      41485 non-null  object \n",
      " 21  id_countrie        39165 non-null  object \n",
      " 22  name_countrie      39165 non-null  object \n",
      "dtypes: float64(8), object(15)\n",
      "memory usage: 8.0+ MB\n"
     ]
    }
   ],
   "source": [
    "df.info()"
   ]
  },
  {
   "cell_type": "code",
   "execution_count": 22,
   "metadata": {},
   "outputs": [
    {
     "name": "stdout",
     "output_type": "stream",
     "text": [
      "{'mes': 12, 'cantidad': 3786}\n"
     ]
    }
   ],
   "source": [
    "def peliculas_mes(mes):\n",
    "    df['release_date'] = pd.to_datetime(df['release_date'])\n",
    "    \n",
    "    if type(mes) == str:\n",
    "        meses = {\"enero\": 1, \"febrero\": 2, \"marzo\": 3, \"abril\": 4, \"mayo\": 5, \"junio\": 6, \n",
    "                 \"julio\": 7, \"agosto\": 8, \"septiembre\": 9, \"octubre\": 10, \"noviembre\": 11, \"diciembre\": 12}\n",
    "        mes = mes.lower()\n",
    "        if mes not in meses:\n",
    "            raise ValueError(\"El mes ingresado no es válido.\")\n",
    "        mes = meses[mes]\n",
    "    \n",
    "    peliculas_mes = df[df['release_date'].dt.month == mes]\n",
    "    cantidad = len(peliculas_mes)\n",
    "    respuesta = {'mes': mes, 'cantidad': cantidad}\n",
    "    return respuesta\n",
    "\n",
    "resultado = peliculas_mes(\"diciembre\")\n",
    "print(resultado)"
   ]
  },
  {
   "cell_type": "code",
   "execution_count": 29,
   "metadata": {},
   "outputs": [
    {
     "name": "stdout",
     "output_type": "stream",
     "text": [
      "{'dia': 1, 'cantidad': 5838}\n"
     ]
    }
   ],
   "source": [
    "def peliculas_dia(dia):\n",
    "    df['release_date'] = pd.to_datetime(df['release_date'])\n",
    "    peliculas_dia = df[df['release_date'].dt.day == dia]\n",
    "    cantidad = len(peliculas_dia)\n",
    "    respuesta = {'dia': dia, 'cantidad': cantidad}\n",
    "    return respuesta\n",
    "\n",
    "resultado = peliculas_dia(1)\n",
    "print(resultado)"
   ]
  },
  {
   "cell_type": "code",
   "execution_count": 30,
   "metadata": {},
   "outputs": [
    {
     "name": "stdout",
     "output_type": "stream",
     "text": [
      "{'franquicia': 'Toy Story Collection', 'cantidad': 3, 'ganancia_total': 12.4518011, 'ganancia_promedio': 4.150600366666667}\n"
     ]
    }
   ],
   "source": [
    "def franquicia(franquicia):\n",
    "    peliculas_franquicia = df[df['name_collection'] == franquicia]\n",
    "    cantidad = len(peliculas_franquicia)\n",
    "    ganancia_total = peliculas_franquicia['return'].sum()\n",
    "    ganancia_promedio = peliculas_franquicia['return'].mean()\n",
    "    respuesta = {'franquicia': franquicia, 'cantidad': cantidad, 'ganancia_total': ganancia_total, 'ganancia_promedio': ganancia_promedio}\n",
    "    return respuesta\n",
    "\n",
    "resultado = franquicia('Toy Story Collection')\n",
    "print(resultado)"
   ]
  },
  {
   "cell_type": "code",
   "execution_count": 31,
   "metadata": {},
   "outputs": [
    {
     "name": "stdout",
     "output_type": "stream",
     "text": [
      "{'pais': 'United States of America', 'cantidad': 17846}\n"
     ]
    }
   ],
   "source": [
    "def peliculas_pais(pais):\n",
    "    peliculas_pais = df[df['name_countrie'] == pais]\n",
    "    cantidad = len(peliculas_pais)\n",
    "    respuesta = {'pais': pais, 'cantidad': cantidad}\n",
    "    return respuesta\n",
    "\n",
    "resultado = peliculas_pais(\"United States of America\")\n",
    "print(resultado)"
   ]
  },
  {
   "cell_type": "code",
   "execution_count": 32,
   "metadata": {},
   "outputs": [
    {
     "name": "stdout",
     "output_type": "stream",
     "text": [
      "{'productora': 'Pixar Animation Studios', 'ganancia_total': 75.39816266666666, 'cantidad': 28}\n"
     ]
    }
   ],
   "source": [
    "def productoras(productora):\n",
    "    # Filtrar el DataFrame por el nombre de la productora\n",
    "    df_productora = df[df['name_production'] == productora]\n",
    "    ganancia_total = df_productora['return'].sum()\n",
    "    cantidad = df_productora['id'].count()\n",
    "    respuesta = {'productora': productora, 'ganancia_total': ganancia_total, 'cantidad': cantidad}\n",
    "    \n",
    "    return respuesta\n",
    "\n",
    "resultado = productoras(\"Pixar Animation Studios\")\n",
    "print(resultado)"
   ]
  },
  {
   "cell_type": "code",
   "execution_count": 30,
   "metadata": {},
   "outputs": [
    {
     "name": "stdout",
     "output_type": "stream",
     "text": [
      "{'pelicula': 'Toy Story', 'inversion': 30000000.0, 'ganancia': 373554033.0, 'retorno': 11.4518011, 'anio': 1995}\n"
     ]
    }
   ],
   "source": [
    "def retorno(titulo):\n",
    "    pelicula = df[df['title'] == titulo]\n",
    "    inversion = pelicula['budget'].iloc[0]\n",
    "    ganancia = pelicula['revenue'].iloc[0]\n",
    "    retorno = (ganancia - inversion) / inversion if inversion != 0 else 0\n",
    "    anio = int(pelicula['release_date'].iloc[0].strftime(\"%Y\"))\n",
    "    respuesta = {'pelicula': titulo, 'inversion': inversion, 'ganancia': ganancia, 'retorno': retorno, 'anio': anio}\n",
    "    return respuesta\n",
    "\n",
    "resultado = retorno(\"Toy Story\")\n",
    "print(resultado)"
   ]
  },
  {
   "cell_type": "code",
   "execution_count": null,
   "metadata": {},
   "outputs": [],
   "source": []
  }
 ],
 "metadata": {
  "kernelspec": {
   "display_name": "Python 3",
   "language": "python",
   "name": "python3"
  },
  "language_info": {
   "codemirror_mode": {
    "name": "ipython",
    "version": 3
   },
   "file_extension": ".py",
   "mimetype": "text/x-python",
   "name": "python",
   "nbconvert_exporter": "python",
   "pygments_lexer": "ipython3",
   "version": "3.10.6"
  },
  "orig_nbformat": 4
 },
 "nbformat": 4,
 "nbformat_minor": 2
}
