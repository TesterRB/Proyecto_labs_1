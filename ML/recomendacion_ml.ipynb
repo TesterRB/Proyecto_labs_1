{
 "cells": [
  {
   "attachments": {},
   "cell_type": "markdown",
   "metadata": {},
   "source": [
    "## **Importar librerías**\n",
    "Importar las librerías necesarias para el análisis de datos y el procesamiento del lenguaje natural,"
   ]
  },
  {
   "cell_type": "code",
   "execution_count": 2,
   "metadata": {},
   "outputs": [],
   "source": [
    "import numpy as np\n",
    "import pandas as pd \n",
    "import spacy "
   ]
  },
  {
   "attachments": {},
   "cell_type": "markdown",
   "metadata": {},
   "source": [
    "## **Cargar los datos**\n",
    "Cargar los datos desde un archivo CSV llamado \"dfListo.csv\" y crear una muestra aleatoria de 1000 películas."
   ]
  },
  {
   "cell_type": "code",
   "execution_count": 11,
   "metadata": {},
   "outputs": [],
   "source": [
    "# cargar los datos\n",
    "df = pd.read_csv('dfListo.csv')\n",
    "\n",
    "# limitar el conjunto de datos de entrenamiento\n",
    "muestra = df.sample(n=1000, random_state=42)"
   ]
  },
  {
   "attachments": {},
   "cell_type": "markdown",
   "metadata": {},
   "source": [
    "## **Procesamiento del lenguaje natural**\n",
    "Cargar el modelo de lenguaje de spaCy y procesar las sinopsis de las películas para obtener una matriz de características de embeddings."
   ]
  },
  {
   "cell_type": "code",
   "execution_count": 12,
   "metadata": {},
   "outputs": [],
   "source": [
    "# cargar el modelo de lenguaje de spaCy\n",
    "nlp = spacy.load(\"en_core_web_md\")\n",
    "\n",
    "# procesar las sinopsis de las películas\n",
    "docs = list(nlp.pipe(muestra[\"overview\"].fillna(\"\").values))\n",
    "\n",
    "# generar una matriz de características de embeddings de spaCy\n",
    "embedding_matrix = np.array([doc.vector for doc in docs])"
   ]
  },
  {
   "attachments": {},
   "cell_type": "markdown",
   "metadata": {},
   "source": [
    "## **Cálculo de similitud coseno**\n",
    "Calcular la matriz de similitud coseno entre las películas basada en su matriz de características de embeddings."
   ]
  },
  {
   "cell_type": "code",
   "execution_count": 13,
   "metadata": {},
   "outputs": [],
   "source": [
    "# calcular la matriz de similitud coseno\n",
    "cosine_sim = np.dot(embedding_matrix, embedding_matrix.T)"
   ]
  },
  {
   "attachments": {},
   "cell_type": "markdown",
   "metadata": {},
   "source": [
    "## **Eliminar filas duplicadas**\n",
    "Eliminar las filas duplicadas del conjunto de datos de entrenamiento."
   ]
  },
  {
   "cell_type": "code",
   "execution_count": 14,
   "metadata": {},
   "outputs": [],
   "source": [
    "# eliminar las filas duplicadas del conjunto de datos de entrenamiento\n",
    "muestra = muestra.drop_duplicates().reset_index(drop=True)"
   ]
  },
  {
   "attachments": {},
   "cell_type": "markdown",
   "metadata": {},
   "source": [
    "## **Búsqueda de películas similares**\n",
    "Crear una serie de índices para buscar películas por título y definir una función para buscar las películas más similares a una película de entrada."
   ]
  },
  {
   "cell_type": "code",
   "execution_count": 19,
   "metadata": {},
   "outputs": [],
   "source": [
    "# crear una serie de índices para buscar películas por título\n",
    "indices = pd.Series(muestra.index, index=muestra['title'])\n",
    "\n",
    "# definir una función para buscar películas similares\n",
    "def recomendacion(title, cosine_sim=cosine_sim, muestra=muestra, indices=indices):\n",
    "    # encontrar el índice de la película de entrada\n",
    "    idx = indices[title]\n",
    "\n",
    "    # calcular las similitudes de la película de entrada con todas las demás películas\n",
    "    sim_scores = list(enumerate(cosine_sim[idx]))\n",
    "\n",
    "    # ordenar las películas por similitud descendente\n",
    "    sim_scores = sorted(sim_scores, key=lambda x: x[1], reverse=True)\n",
    "\n",
    "    # seleccionar las cinco películas más similares (excluyendo la película de entrada)\n",
    "    sim_scores = sim_scores[1:6]\n",
    "\n",
    "    # obtener los índices de las películas seleccionadas\n",
    "    movie_indices = [i[0] for i in sim_scores]\n",
    "\n",
    "    # obtener los títulos de las películas seleccionadas\n",
    "    peliculas_recomendadas = list(muestra.iloc[movie_indices]['title'])\n",
    "\n",
    "    # devolver los títulos de las películas recomendadas\n",
    "    return {'peliculas_recomendadas': peliculas_recomendadas}"
   ]
  },
  {
   "attachments": {},
   "cell_type": "markdown",
   "metadata": {},
   "source": [
    "## **Ejemplo de uso**\n",
    "Ejemplo de uso de la función \"get_similar_movies\" para buscar las películas más similares a \"Statues Also Die\"."
   ]
  },
  {
   "cell_type": "code",
   "execution_count": 20,
   "metadata": {},
   "outputs": [
    {
     "data": {
      "text/plain": [
       "{'peliculas_recomendadas': ['Hated:  GG Allin & the Murder Junkies',\n",
       "  'This Land Is Mine',\n",
       "  'The Last Truck: Closing of a GM Plant',\n",
       "  'Culloden',\n",
       "  'Richard III']}"
      ]
     },
     "execution_count": 20,
     "metadata": {},
     "output_type": "execute_result"
    }
   ],
   "source": [
    "recomendacion('Statues Also Die')"
   ]
  }
 ],
 "metadata": {
  "kernelspec": {
   "display_name": "Python 3",
   "language": "python",
   "name": "python3"
  },
  "language_info": {
   "codemirror_mode": {
    "name": "ipython",
    "version": 3
   },
   "file_extension": ".py",
   "mimetype": "text/x-python",
   "name": "python",
   "nbconvert_exporter": "python",
   "pygments_lexer": "ipython3",
   "version": "3.10.6"
  },
  "orig_nbformat": 4
 },
 "nbformat": 4,
 "nbformat_minor": 2
}
