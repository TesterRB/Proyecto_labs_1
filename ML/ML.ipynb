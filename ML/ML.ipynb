{
 "cells": [
  {
   "attachments": {},
   "cell_type": "markdown",
   "metadata": {},
   "source": [
    "## **Importar las librerias**"
   ]
  },
  {
   "cell_type": "code",
   "execution_count": 1,
   "metadata": {},
   "outputs": [],
   "source": [
    "import numpy as pd\n",
    "import pandas as pd\n",
    "from sklearn.metrics.pairwise import linear_kernel\n",
    "from sklearn.feature_extraction.text import TfidfVectorizer"
   ]
  },
  {
   "attachments": {},
   "cell_type": "markdown",
   "metadata": {},
   "source": [
    "## **Se crea un Dataframe con el archivo csv**"
   ]
  },
  {
   "cell_type": "code",
   "execution_count": 2,
   "metadata": {},
   "outputs": [
    {
     "data": {
      "text/html": [
       "<div>\n",
       "<style scoped>\n",
       "    .dataframe tbody tr th:only-of-type {\n",
       "        vertical-align: middle;\n",
       "    }\n",
       "\n",
       "    .dataframe tbody tr th {\n",
       "        vertical-align: top;\n",
       "    }\n",
       "\n",
       "    .dataframe thead th {\n",
       "        text-align: right;\n",
       "    }\n",
       "</style>\n",
       "<table border=\"1\" class=\"dataframe\">\n",
       "  <thead>\n",
       "    <tr style=\"text-align: right;\">\n",
       "      <th></th>\n",
       "      <th>budget</th>\n",
       "      <th>id</th>\n",
       "      <th>original_language</th>\n",
       "      <th>overview</th>\n",
       "      <th>popularity</th>\n",
       "      <th>release_date</th>\n",
       "      <th>revenue</th>\n",
       "      <th>runtime</th>\n",
       "      <th>status</th>\n",
       "      <th>tagline</th>\n",
       "      <th>...</th>\n",
       "      <th>id_collection</th>\n",
       "      <th>name_collection</th>\n",
       "      <th>id_genres</th>\n",
       "      <th>name_genres</th>\n",
       "      <th>id_production</th>\n",
       "      <th>name_production</th>\n",
       "      <th>id_language</th>\n",
       "      <th>name_language</th>\n",
       "      <th>id_countrie</th>\n",
       "      <th>name_countrie</th>\n",
       "    </tr>\n",
       "  </thead>\n",
       "  <tbody>\n",
       "    <tr>\n",
       "      <th>0</th>\n",
       "      <td>30000000.0</td>\n",
       "      <td>862.0</td>\n",
       "      <td>en</td>\n",
       "      <td>Led by Woody, Andy's toys live happily in his ...</td>\n",
       "      <td>21.946943</td>\n",
       "      <td>1995-10-30</td>\n",
       "      <td>373554033.0</td>\n",
       "      <td>81.0</td>\n",
       "      <td>Released</td>\n",
       "      <td>NaN</td>\n",
       "      <td>...</td>\n",
       "      <td>10194.0</td>\n",
       "      <td>Toy Story Collection</td>\n",
       "      <td>16.0,35.0,10751.0</td>\n",
       "      <td>Animation,Comedy,Family</td>\n",
       "      <td>3.0</td>\n",
       "      <td>Pixar Animation Studios</td>\n",
       "      <td>en</td>\n",
       "      <td>English</td>\n",
       "      <td>US</td>\n",
       "      <td>United States of America</td>\n",
       "    </tr>\n",
       "    <tr>\n",
       "      <th>1</th>\n",
       "      <td>65000000.0</td>\n",
       "      <td>8844.0</td>\n",
       "      <td>en</td>\n",
       "      <td>When siblings Judy and Peter discover an encha...</td>\n",
       "      <td>17.015539</td>\n",
       "      <td>1995-12-15</td>\n",
       "      <td>262797249.0</td>\n",
       "      <td>104.0</td>\n",
       "      <td>Released</td>\n",
       "      <td>Roll the dice and unleash the excitement!</td>\n",
       "      <td>...</td>\n",
       "      <td>NaN</td>\n",
       "      <td>NaN</td>\n",
       "      <td>12.0,14.0,10751.0</td>\n",
       "      <td>Adventure,Fantasy,Family</td>\n",
       "      <td>559.0,2550.0,10201.0</td>\n",
       "      <td>TriStar Pictures,Teitler Film,Interscope Commu...</td>\n",
       "      <td>en,fr</td>\n",
       "      <td>English,Français</td>\n",
       "      <td>US</td>\n",
       "      <td>United States of America</td>\n",
       "    </tr>\n",
       "    <tr>\n",
       "      <th>2</th>\n",
       "      <td>0.0</td>\n",
       "      <td>15602.0</td>\n",
       "      <td>en</td>\n",
       "      <td>A family wedding reignites the ancient feud be...</td>\n",
       "      <td>11.712900</td>\n",
       "      <td>1995-12-22</td>\n",
       "      <td>0.0</td>\n",
       "      <td>101.0</td>\n",
       "      <td>Released</td>\n",
       "      <td>Still Yelling. Still Fighting. Still Ready for...</td>\n",
       "      <td>...</td>\n",
       "      <td>119050.0</td>\n",
       "      <td>Grumpy Old Men Collection</td>\n",
       "      <td>10749.0,35.0</td>\n",
       "      <td>Romance,Comedy</td>\n",
       "      <td>6194.0,19464.0</td>\n",
       "      <td>Warner Bros.,Lancaster Gate</td>\n",
       "      <td>en</td>\n",
       "      <td>English</td>\n",
       "      <td>US</td>\n",
       "      <td>United States of America</td>\n",
       "    </tr>\n",
       "    <tr>\n",
       "      <th>3</th>\n",
       "      <td>16000000.0</td>\n",
       "      <td>31357.0</td>\n",
       "      <td>en</td>\n",
       "      <td>Cheated on, mistreated and stepped on, the wom...</td>\n",
       "      <td>3.859495</td>\n",
       "      <td>1995-12-22</td>\n",
       "      <td>81452156.0</td>\n",
       "      <td>127.0</td>\n",
       "      <td>Released</td>\n",
       "      <td>Friends are the people who let you be yourself...</td>\n",
       "      <td>...</td>\n",
       "      <td>NaN</td>\n",
       "      <td>NaN</td>\n",
       "      <td>35.0,18.0,10749.0</td>\n",
       "      <td>Comedy,Drama,Romance</td>\n",
       "      <td>306.0</td>\n",
       "      <td>Twentieth Century Fox Film Corporation</td>\n",
       "      <td>en</td>\n",
       "      <td>English</td>\n",
       "      <td>US</td>\n",
       "      <td>United States of America</td>\n",
       "    </tr>\n",
       "    <tr>\n",
       "      <th>4</th>\n",
       "      <td>0.0</td>\n",
       "      <td>11862.0</td>\n",
       "      <td>en</td>\n",
       "      <td>Just when George Banks has recovered from his ...</td>\n",
       "      <td>8.387519</td>\n",
       "      <td>1995-02-10</td>\n",
       "      <td>76578911.0</td>\n",
       "      <td>106.0</td>\n",
       "      <td>Released</td>\n",
       "      <td>Just When His World Is Back To Normal... He's ...</td>\n",
       "      <td>...</td>\n",
       "      <td>96871.0</td>\n",
       "      <td>Father of the Bride Collection</td>\n",
       "      <td>35.0</td>\n",
       "      <td>Comedy</td>\n",
       "      <td>5842.0,9195.0</td>\n",
       "      <td>Sandollar Productions,Touchstone Pictures</td>\n",
       "      <td>en</td>\n",
       "      <td>English</td>\n",
       "      <td>US</td>\n",
       "      <td>United States of America</td>\n",
       "    </tr>\n",
       "  </tbody>\n",
       "</table>\n",
       "<p>5 rows × 24 columns</p>\n",
       "</div>"
      ],
      "text/plain": [
       "       budget       id original_language  \\\n",
       "0  30000000.0    862.0                en   \n",
       "1  65000000.0   8844.0                en   \n",
       "2         0.0  15602.0                en   \n",
       "3  16000000.0  31357.0                en   \n",
       "4         0.0  11862.0                en   \n",
       "\n",
       "                                            overview  popularity release_date  \\\n",
       "0  Led by Woody, Andy's toys live happily in his ...   21.946943   1995-10-30   \n",
       "1  When siblings Judy and Peter discover an encha...   17.015539   1995-12-15   \n",
       "2  A family wedding reignites the ancient feud be...   11.712900   1995-12-22   \n",
       "3  Cheated on, mistreated and stepped on, the wom...    3.859495   1995-12-22   \n",
       "4  Just when George Banks has recovered from his ...    8.387519   1995-02-10   \n",
       "\n",
       "       revenue  runtime    status  \\\n",
       "0  373554033.0     81.0  Released   \n",
       "1  262797249.0    104.0  Released   \n",
       "2          0.0    101.0  Released   \n",
       "3   81452156.0    127.0  Released   \n",
       "4   76578911.0    106.0  Released   \n",
       "\n",
       "                                             tagline  ... id_collection  \\\n",
       "0                                                NaN  ...       10194.0   \n",
       "1          Roll the dice and unleash the excitement!  ...           NaN   \n",
       "2  Still Yelling. Still Fighting. Still Ready for...  ...      119050.0   \n",
       "3  Friends are the people who let you be yourself...  ...           NaN   \n",
       "4  Just When His World Is Back To Normal... He's ...  ...       96871.0   \n",
       "\n",
       "                  name_collection          id_genres  \\\n",
       "0            Toy Story Collection  16.0,35.0,10751.0   \n",
       "1                             NaN  12.0,14.0,10751.0   \n",
       "2       Grumpy Old Men Collection       10749.0,35.0   \n",
       "3                             NaN  35.0,18.0,10749.0   \n",
       "4  Father of the Bride Collection               35.0   \n",
       "\n",
       "                name_genres         id_production  \\\n",
       "0   Animation,Comedy,Family                   3.0   \n",
       "1  Adventure,Fantasy,Family  559.0,2550.0,10201.0   \n",
       "2            Romance,Comedy        6194.0,19464.0   \n",
       "3      Comedy,Drama,Romance                 306.0   \n",
       "4                    Comedy         5842.0,9195.0   \n",
       "\n",
       "                                     name_production id_language  \\\n",
       "0                            Pixar Animation Studios          en   \n",
       "1  TriStar Pictures,Teitler Film,Interscope Commu...       en,fr   \n",
       "2                        Warner Bros.,Lancaster Gate          en   \n",
       "3             Twentieth Century Fox Film Corporation          en   \n",
       "4          Sandollar Productions,Touchstone Pictures          en   \n",
       "\n",
       "      name_language id_countrie             name_countrie  \n",
       "0           English          US  United States of America  \n",
       "1  English,Français          US  United States of America  \n",
       "2           English          US  United States of America  \n",
       "3           English          US  United States of America  \n",
       "4           English          US  United States of America  \n",
       "\n",
       "[5 rows x 24 columns]"
      ]
     },
     "execution_count": 2,
     "metadata": {},
     "output_type": "execute_result"
    }
   ],
   "source": [
    "df = pd.read_csv('dfListo.csv')\n",
    "df.head()"
   ]
  },
  {
   "attachments": {},
   "cell_type": "markdown",
   "metadata": {},
   "source": [
    "## **Se limita el dataframe**"
   ]
  },
  {
   "cell_type": "code",
   "execution_count": 3,
   "metadata": {},
   "outputs": [],
   "source": [
    "ejemplo=df.sample(n=1000, random_state=42)"
   ]
  },
  {
   "attachments": {},
   "cell_type": "markdown",
   "metadata": {},
   "source": [
    "## **Desarrollo del modelo**"
   ]
  },
  {
   "cell_type": "code",
   "execution_count": 4,
   "metadata": {},
   "outputs": [],
   "source": [
    "tfidf = TfidfVectorizer(stop_words='english')\n",
    "\n",
    "# Rellenar los valores nulos en 'overview' con espacios vacíos\n",
    "ejemplo['overview'] = ejemplo['overview'].fillna('')\n",
    "\n",
    "# Entrenamiento del modelo TfidfVectorizer\n",
    "tfidf_matrix = tfidf.fit_transform(ejemplo['overview'])\n",
    "\n",
    "# Cálculo de similitud del coseno\n",
    "cosine_sim = linear_kernel(tfidf_matrix, tfidf_matrix)\n",
    "\n",
    "# Eliminación de duplicados en ml\n",
    "ejemplo.drop_duplicates(inplace=True)\n",
    "ejemplo = ejemplo.reset_index(drop=True)\n",
    "\n",
    "# Creación de la serie de índices con los títulos de las películas\n",
    "indices = pd.Series(ejemplo.index, index=ejemplo['title'])"
   ]
  },
  {
   "cell_type": "code",
   "execution_count": 5,
   "metadata": {},
   "outputs": [
    {
     "data": {
      "text/plain": [
       "(1000, 10120)"
      ]
     },
     "execution_count": 5,
     "metadata": {},
     "output_type": "execute_result"
    }
   ],
   "source": [
    "tfidf_matrix.shape # te arroja el resultado"
   ]
  },
  {
   "attachments": {},
   "cell_type": "markdown",
   "metadata": {},
   "source": [
    "## Se realizan las siguientes funciones"
   ]
  },
  {
   "cell_type": "code",
   "execution_count": 6,
   "metadata": {},
   "outputs": [],
   "source": [
    "def recomendaciones(title, cosine_sim=cosine_sim):\n",
    "    # Obtener el índice correspondiente al título\n",
    "    idx = indices[title]\n",
    "    \n",
    "    # Obtener los puntajes de similitud y enumerarlos\n",
    "    sim_scores = list(enumerate(cosine_sim[idx]))\n",
    "    \n",
    "    # Ordenar los puntajes de similitud de forma descendente\n",
    "    sim_scores = sorted(sim_scores, key=lambda x: x[1], reverse=True)\n",
    "    \n",
    "    # Obtener los 5 elementos más similares (excluyendo el título actual)\n",
    "    sim_scores = sim_scores[1:6]\n",
    "    \n",
    "    # Obtener los índices de las películas recomendadas\n",
    "    movie_indices = [i[0] for i in sim_scores]\n",
    "    \n",
    "    # Devolver los títulos de las películas recomendadas\n",
    "    return ejemplo['title'].iloc[movie_indices]"
   ]
  },
  {
   "attachments": {},
   "cell_type": "markdown",
   "metadata": {},
   "source": [
    "## **Con el fin de probar el modelo tenemos que verificar que titulos podemos usar como input**"
   ]
  },
  {
   "cell_type": "code",
   "execution_count": 7,
   "metadata": {},
   "outputs": [
    {
     "data": {
      "text/plain": [
       "0        I Am Belfast\n",
       "1       Office Killer\n",
       "2        Lovely Molly\n",
       "3            Blockade\n",
       "4    Statues Also Die\n",
       "Name: title, dtype: object"
      ]
     },
     "execution_count": 7,
     "metadata": {},
     "output_type": "execute_result"
    }
   ],
   "source": [
    "ejemplo['title'].head()"
   ]
  },
  {
   "cell_type": "code",
   "execution_count": 8,
   "metadata": {},
   "outputs": [
    {
     "data": {
      "text/plain": [
       "274              Spicebush\n",
       "727              10,000 km\n",
       "717       American Pastime\n",
       "340        Miss Rose White\n",
       "458    No Love for Johnnie\n",
       "Name: title, dtype: object"
      ]
     },
     "execution_count": 8,
     "metadata": {},
     "output_type": "execute_result"
    }
   ],
   "source": [
    "recomendaciones('Blockade')"
   ]
  }
 ],
 "metadata": {
  "kernelspec": {
   "display_name": "Python 3",
   "language": "python",
   "name": "python3"
  },
  "language_info": {
   "codemirror_mode": {
    "name": "ipython",
    "version": 3
   },
   "file_extension": ".py",
   "mimetype": "text/x-python",
   "name": "python",
   "nbconvert_exporter": "python",
   "pygments_lexer": "ipython3",
   "version": "3.10.6"
  },
  "orig_nbformat": 4
 },
 "nbformat": 4,
 "nbformat_minor": 2
}
